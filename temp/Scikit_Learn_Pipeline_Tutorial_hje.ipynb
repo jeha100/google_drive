{
  "nbformat": 4,
  "nbformat_minor": 0,
  "metadata": {
    "colab": {
      "name": "Scikit_Learn_Pipeline_Tutorial_hje.ipynb",
      "provenance": [],
      "collapsed_sections": [],
      "authorship_tag": "ABX9TyOOSVLLfJaGcuTD8q1FUaRR",
      "include_colab_link": true
    },
    "kernelspec": {
      "name": "python3",
      "display_name": "Python 3"
    },
    "language_info": {
      "name": "python"
    }
  },
  "cells": [
    {
      "cell_type": "markdown",
      "metadata": {
        "id": "view-in-github",
        "colab_type": "text"
      },
      "source": [
        "<a href=\"https://colab.research.google.com/github/jeha100/google_drive/blob/main/temp/Scikit_Learn_Pipeline_Tutorial_hje.ipynb\" target=\"_parent\"><img src=\"https://colab.research.google.com/assets/colab-badge.svg\" alt=\"Open In Colab\"/></a>"
      ]
    },
    {
      "cell_type": "markdown",
      "source": [
        "# 데이터 누수 방지 위한 모델링 기법 : 파이프라인 구축\n",
        "- 수능시험 = 최종 테스트 데이터\n",
        "- 모의고사 또는 과거 기출문제 = 검증데이터\n",
        "- 교과서 문제지 = 훈련 데이터\n",
        "- 머신러닝 엔지니어 : MLOps (선행되어야 하는 코드 조건, Pipeline 형태로 구축)\n",
        "  + 머신러닝 코드 자동화 가능! 운영 가능! \n",
        "  + 개발업계의 최상위 연봉자! "
      ],
      "metadata": {
        "id": "k4F5JpGlCuS5"
      }
    },
    {
      "cell_type": "markdown",
      "source": [
        "# 데이터 불러오기"
      ],
      "metadata": {
        "id": "bBCQ3yzYCwaY"
      }
    },
    {
      "cell_type": "code",
      "execution_count": 8,
      "metadata": {
        "colab": {
          "base_uri": "https://localhost:8080/"
        },
        "id": "ELElPGD-hPgI",
        "outputId": "f1bd37b5-6977-4564-9fc4-eea9b70f4b0d"
      },
      "outputs": [
        {
          "output_type": "stream",
          "name": "stdout",
          "text": [
            "<class 'pandas.core.frame.DataFrame'>\n",
            "RangeIndex: 731 entries, 0 to 730\n",
            "Data columns (total 14 columns):\n",
            " #   Column      Non-Null Count  Dtype  \n",
            "---  ------      --------------  -----  \n",
            " 0   instant     731 non-null    int64  \n",
            " 1   dteday      731 non-null    object \n",
            " 2   season      731 non-null    int64  \n",
            " 3   yr          731 non-null    int64  \n",
            " 4   mnth        731 non-null    int64  \n",
            " 5   holiday     731 non-null    int64  \n",
            " 6   weekday     731 non-null    int64  \n",
            " 7   workingday  731 non-null    int64  \n",
            " 8   weathersit  731 non-null    int64  \n",
            " 9   temp        731 non-null    float64\n",
            " 10  atemp       731 non-null    float64\n",
            " 11  hum         731 non-null    float64\n",
            " 12  windspeed   731 non-null    float64\n",
            " 13  rentals     731 non-null    int64  \n",
            "dtypes: float64(4), int64(9), object(1)\n",
            "memory usage: 80.1+ KB\n"
          ]
        }
      ],
      "source": [
        "import pandas as pd\n",
        "import numpy as np\n",
        "data = pd.read_csv('https://raw.githubusercontent.com/MicrosoftDocs/ml-basics/master/data/daily-bike-share.csv')\n",
        "data.info()"
      ]
    },
    {
      "cell_type": "markdown",
      "source": [
        "# 데이터 추출"
      ],
      "metadata": {
        "id": "_GRkXpbCCzVW"
      }
    },
    {
      "cell_type": "code",
      "source": [
        "cols = ['season', 'mnth', 'holiday', 'weekday', 'workingday', 'weathersit', 'temp', 'atemp', 'hum', 'windspeed', 'rentals']\n",
        "data = data[cols]\n",
        "data.info()\n",
        "#data['mnth'].value_counts()"
      ],
      "metadata": {
        "colab": {
          "base_uri": "https://localhost:8080/"
        },
        "id": "YRH_1O9akT5G",
        "outputId": "4364fe19-5f7b-49da-b865-817de40f59b4"
      },
      "execution_count": 9,
      "outputs": [
        {
          "output_type": "stream",
          "name": "stdout",
          "text": [
            "<class 'pandas.core.frame.DataFrame'>\n",
            "RangeIndex: 731 entries, 0 to 730\n",
            "Data columns (total 11 columns):\n",
            " #   Column      Non-Null Count  Dtype  \n",
            "---  ------      --------------  -----  \n",
            " 0   season      731 non-null    int64  \n",
            " 1   mnth        731 non-null    int64  \n",
            " 2   holiday     731 non-null    int64  \n",
            " 3   weekday     731 non-null    int64  \n",
            " 4   workingday  731 non-null    int64  \n",
            " 5   weathersit  731 non-null    int64  \n",
            " 6   temp        731 non-null    float64\n",
            " 7   atemp       731 non-null    float64\n",
            " 8   hum         731 non-null    float64\n",
            " 9   windspeed   731 non-null    float64\n",
            " 10  rentals     731 non-null    int64  \n",
            "dtypes: float64(4), int64(7)\n",
            "memory usage: 62.9 KB\n"
          ]
        }
      ]
    },
    {
      "cell_type": "markdown",
      "source": [
        "- Data Preprocessing\n",
        "  + 결측치 수동으로 채우거나\n",
        "  + 불필요한 변수를 제거하거나\n",
        "  + 이상치를 제거하나\n",
        "  + 파생변수를 만들거나 등"
      ],
      "metadata": {
        "id": "AvilHs-rkwGR"
      }
    },
    {
      "cell_type": "markdown",
      "source": [
        "기존 : 데이터 불러오기 -> 데이터 전처리 -> 피처공학(원핫-인코딩) -> 데이터셋 분리 -> 모델링 코드 -> 모델평가\n",
        "\n",
        "파이프라인 : 데이터 불러오기 -> 데이터 전처리 -> 데이터셋 분리 -> 파이프라인 구축(피처공학, 모델링 코드) -> 모델평가"
      ],
      "metadata": {
        "id": "oKS9Em7PnsLN"
      }
    },
    {
      "cell_type": "markdown",
      "source": [
        "- Faature "
      ],
      "metadata": {
        "id": "PA55f_Yskgbq"
      }
    },
    {
      "cell_type": "markdown",
      "source": [
        "# 데이터셋 분리 "
      ],
      "metadata": {
        "id": "QHlUmIcKC6aS"
      }
    },
    {
      "cell_type": "code",
      "source": [
        "from sklearn.model_selection import train_test_split\n",
        "X = data.drop('rentals',axis=1)\n",
        "y = data['rentals']\n",
        "\n",
        "X_train, X_test, y_train, y_test = train_test_split(X, y, test_size=0.2, random_state=123)"
      ],
      "metadata": {
        "id": "V27oIE6tnkE1"
      },
      "execution_count": 10,
      "outputs": []
    },
    {
      "cell_type": "markdown",
      "source": [
        "- Feature Engineering\n",
        "  + 기존 : 개별적으로 코드 작성\n",
        "  + 현재 : Pipeline 코드로 추가할 것"
      ],
      "metadata": {
        "id": "n-IdRzI5C9W8"
      }
    },
    {
      "cell_type": "markdown",
      "source": [
        "# Pipeline 구축"
      ],
      "metadata": {
        "id": "ACwAmCnnC_ra"
      }
    },
    {
      "cell_type": "code",
      "source": [
        "from sklearn.preprocessing import StandardScaler, OrdinalEncoder, OneHotEncoder\n",
        "from sklearn.impute import SimpleImputer\n",
        "from sklearn.compose import ColumnTransformer\n",
        "from sklearn.pipeline import Pipeline\n",
        "\n",
        "# 데이터 타입 3가지\n",
        "# 수치형 데이터, 문자열 데이터\n",
        "# 문자열 데이터 : 범주형(명목형, 서열형 데이터 구분)\n",
        "numeric_transformer = Pipeline(steps=[\n",
        "       ('imputer', SimpleImputer(strategy='mean'))\n",
        "      ,('scaler', StandardScaler())\n",
        "])\n",
        "\n",
        "ordinal_transformer = Pipeline(steps=[\n",
        "       ('imputer', SimpleImputer(strategy='constant'))\n",
        "      ,('ordEncoder', OrdinalEncoder())\n",
        "])\n",
        "\n",
        "onehot_transformer = Pipeline(steps=[\n",
        "       ('imputer', SimpleImputer(strategy='constant'))\n",
        "      ,('oheEncoder', OneHotEncoder())                                   \n",
        "])\n",
        "\n",
        "# 수치형 데이터 및 Categorical 데이터 컬럼 분리\n",
        "numeric_features = ['temp', 'atemp', 'hum', 'windspeed']\n",
        "ordinal_features = ['holiday', 'weekday', 'workingday', 'weathersit']\n",
        "onehot_features  = ['season', 'mnth']\n",
        "\n",
        "# numeric_features = data.select_dtypes(include=['int64', 'float64']).columns\n",
        "# categorical_features = data.select_dtypes(include=['object']).drop(['Loan_Status'], axis=1).columns\n",
        "\n",
        "preprocessor = ColumnTransformer(\n",
        "   transformers=[\n",
        "     ('numeric', numeric_transformer, numeric_features)\n",
        "   , ('ord_categorical', ordinal_transformer, ordinal_features)\n",
        "   , ('ohe_categorical', onehot_transformer, onehot_features)\n",
        "])"
      ],
      "metadata": {
        "id": "Unyqk_vwkbqy"
      },
      "execution_count": 11,
      "outputs": []
    },
    {
      "cell_type": "markdown",
      "source": [
        ""
      ],
      "metadata": {
        "id": "LoCObFD9DDK3"
      }
    },
    {
      "cell_type": "markdown",
      "source": [
        "# 모델 적용"
      ],
      "metadata": {
        "id": "bX3JyQRpDFYc"
      }
    },
    {
      "cell_type": "code",
      "source": [
        "from sklearn.ensemble import RandomForestRegressor\n",
        "\n",
        "pipeline = Pipeline(steps = [\n",
        "               ('preprocessor', preprocessor)\n",
        "              ,('regressor', RandomForestRegressor())\n",
        "           ])\n",
        "\n",
        "rf_model = pipeline.fit(X_train, y_train)\n",
        "print(rf_model)"
      ],
      "metadata": {
        "colab": {
          "base_uri": "https://localhost:8080/"
        },
        "id": "vkzYXmqZmfmF",
        "outputId": "6ef2f1ff-fdc3-40a3-ea8d-990972f62489"
      },
      "execution_count": 12,
      "outputs": [
        {
          "output_type": "stream",
          "name": "stdout",
          "text": [
            "Pipeline(steps=[('preprocessor',\n",
            "                 ColumnTransformer(transformers=[('numeric',\n",
            "                                                  Pipeline(steps=[('imputer',\n",
            "                                                                   SimpleImputer()),\n",
            "                                                                  ('scaler',\n",
            "                                                                   StandardScaler())]),\n",
            "                                                  ['temp', 'atemp', 'hum',\n",
            "                                                   'windspeed']),\n",
            "                                                 ('ord_categorical',\n",
            "                                                  Pipeline(steps=[('imputer',\n",
            "                                                                   SimpleImputer(strategy='constant')),\n",
            "                                                                  ('ordEncoder',\n",
            "                                                                   OrdinalEncoder())]),\n",
            "                                                  ['holiday', 'weekday',\n",
            "                                                   'workingday',\n",
            "                                                   'weathersit']),\n",
            "                                                 ('ohe_categorical',\n",
            "                                                  Pipeline(steps=[('imputer',\n",
            "                                                                   SimpleImputer(strategy='constant')),\n",
            "                                                                  ('oheEncoder',\n",
            "                                                                   OneHotEncoder())]),\n",
            "                                                  ['season', 'mnth'])])),\n",
            "                ('regressor', RandomForestRegressor())])\n"
          ]
        }
      ]
    },
    {
      "cell_type": "markdown",
      "source": [
        "# 모델 평가"
      ],
      "metadata": {
        "id": "F5dIqwQyDJy0"
      }
    },
    {
      "cell_type": "code",
      "source": [
        "from sklearn.metrics import r2_score\n",
        "predictions = rf_model.predict(X_test)\n",
        "print (r2_score(y_test, predictions))"
      ],
      "metadata": {
        "colab": {
          "base_uri": "https://localhost:8080/"
        },
        "id": "yePMyHP8ohDO",
        "outputId": "ed91b602-fb07-4cca-c65a-22006268a428"
      },
      "execution_count": 13,
      "outputs": [
        {
          "output_type": "stream",
          "name": "stdout",
          "text": [
            "0.7703524614828722\n"
          ]
        }
      ]
    },
    {
      "cell_type": "markdown",
      "source": [
        "# 다중 모형 개발"
      ],
      "metadata": {
        "id": "nYCS5khnDNuf"
      }
    },
    {
      "cell_type": "code",
      "source": [
        "from sklearn.ensemble import RandomForestRegressor\n",
        "from sklearn.tree import DecisionTreeRegressor\n",
        "from sklearn.linear_model import LinearRegression\n",
        "regressors = [\n",
        "    RandomForestRegressor()\n",
        "   ,DecisionTreeRegressor()\n",
        "   ,LinearRegression()\n",
        "]\n",
        "\n",
        "# regressors = [pipe_rf, pipe_dt]\n",
        "for regressor in regressors:\n",
        "    pipeline = Pipeline(steps = [\n",
        "               ('preprocessor', preprocessor)\n",
        "              ,('regressor',regressor)\n",
        "           ])\n",
        "    model = pipeline.fit(X_train, y_train)\n",
        "    predictions = model.predict(X_test)\n",
        "    print(regressor)\n",
        "    print(f'Model r2 score:{r2_score(predictions, y_test)}')"
      ],
      "metadata": {
        "colab": {
          "base_uri": "https://localhost:8080/"
        },
        "id": "g9dz5ck-o1LM",
        "outputId": "fe30758f-c7ac-434b-fff9-9c426f4a2d3b"
      },
      "execution_count": 14,
      "outputs": [
        {
          "output_type": "stream",
          "name": "stdout",
          "text": [
            "RandomForestRegressor()\n",
            "Model r2 score:0.7513731003958627\n",
            "DecisionTreeRegressor()\n",
            "Model r2 score:0.6233862064272377\n",
            "LinearRegression()\n",
            "Model r2 score:0.5703227526319388\n"
          ]
        }
      ]
    }
  ]
}
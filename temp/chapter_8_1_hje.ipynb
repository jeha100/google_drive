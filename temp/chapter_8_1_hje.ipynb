{
  "nbformat": 4,
  "nbformat_minor": 0,
  "metadata": {
    "colab": {
      "name": "chapter_8_1_hje.ipynb",
      "provenance": [],
      "collapsed_sections": [],
      "authorship_tag": "ABX9TyPHd/pDAU0O1kTTqFLhth0T",
      "include_colab_link": true
    },
    "kernelspec": {
      "name": "python3",
      "display_name": "Python 3"
    },
    "language_info": {
      "name": "python"
    }
  },
  "cells": [
    {
      "cell_type": "markdown",
      "metadata": {
        "id": "view-in-github",
        "colab_type": "text"
      },
      "source": [
        "<a href=\"https://colab.research.google.com/github/jeha100/google_drive/blob/main/temp/chapter_8_1_hje.ipynb\" target=\"_parent\"><img src=\"https://colab.research.google.com/assets/colab-badge.svg\" alt=\"Open In Colab\"/></a>"
      ]
    },
    {
      "cell_type": "markdown",
      "source": [
        "# 합성곱 신경망\n",
        "- 로지스틱 회귀 (일반 ML 모형):81% /1950년대\n",
        "\n",
        "- 인공신경망 (딥러닝 초기 모형): 87% / 1940-80년대\n",
        "\n",
        "-합성곱(Convolution,CNN)\n",
        "  + 발전사 : alexnet (2012) -> resnet -> efficientent\n",
        "  + 채널, 이미지의 너비, 크기(파라미터 튜닝)\n",
        "  + Vision Transformer\n",
        "\n",
        "  - RNN / LSTM (자연어 처리)\n",
        "    + 구글 2017년 Transformer(논문)"
      ],
      "metadata": {
        "id": "wtuk3j6UQ9s1"
      }
    },
    {
      "cell_type": "markdown",
      "source": [
        "# 합성곱의 장점\n",
        "- 기존 : 1차원 배열에서만 연산이 가능\n",
        "- 2차원 배열에도 연산을 할 수 있도록 구현\n",
        "  + 선형대수 학습이 필요"
      ],
      "metadata": {
        "id": "rlxYOhuEsjTD"
      }
    },
    {
      "cell_type": "code",
      "source": [
        "from tensorflow import keras\n",
        "keras.layers.Conv2D(10,kernel_size=(3,3),activation='relu')"
      ],
      "metadata": {
        "colab": {
          "base_uri": "https://localhost:8080/"
        },
        "id": "ksLiRGDIstkC",
        "outputId": "3c3b6cc2-a599-4154-faa8-ece2111454a1"
      },
      "execution_count": 3,
      "outputs": [
        {
          "output_type": "execute_result",
          "data": {
            "text/plain": [
              "<keras.layers.convolutional.Conv2D at 0x7f8e74170b10>"
            ]
          },
          "metadata": {},
          "execution_count": 3
        }
      ]
    },
    {
      "cell_type": "code",
      "source": [
        "keras.layers.Conv2D(10,kernel_size=(3,3),activation='relu',\n",
        "                    padding='same',strides=1)"
      ],
      "metadata": {
        "colab": {
          "base_uri": "https://localhost:8080/"
        },
        "id": "jTlfYFl8svlL",
        "outputId": "97240862-8c0e-4c2e-f78e-5c7637a95d43"
      },
      "execution_count": 4,
      "outputs": [
        {
          "output_type": "execute_result",
          "data": {
            "text/plain": [
              "<keras.layers.convolutional.Conv2D at 0x7f8e735ff410>"
            ]
          },
          "metadata": {},
          "execution_count": 4
        }
      ]
    },
    {
      "cell_type": "markdown",
      "source": [
        "# 풀링\n",
        "- 값을 추출\n",
        "- 100 x 100 이미지->(수치로) 주요 이미지의 특성만 뽑은 후 , 웹 이미지와 갑테 만듬(50x50)"
      ],
      "metadata": {
        "id": "pDl7EZXYt4Tt"
      }
    },
    {
      "cell_type": "markdown",
      "source": [
        "# 교재 437\n",
        "- 1단계 : 이미지 데이터 입력\n",
        "- 2단계 : 합성곱 층\n",
        "  + (1)kernel_size + padding \n",
        "  + (2) 활성화 함수 적용\n",
        "  + (3) 각각의 특성맵을 산출\n",
        "- 3단계 : 풀링층\n",
        "  + (1) Max Pooling : 최댓값 추출\n",
        "  + (2) 최종 특성맵\n",
        "- 위 과정을 계속 반복하는 것이 CNN 알고리즘\n",
        "- 4단계 : 밀집층(Fully Connected Layer)\n",
        "  + Chapter 7장에서 학습\n",
        "- 5단계 : 분류 예측값을 산출 (Softmax 활성화 함수)\n",
        "\n",
        "주요 키워드 : 전이 학습(Transfer Learning)/파인 튜닝\n",
        "  + 캐글 경진대회!\n",
        "  + 클래스 공부 필수 "
      ],
      "metadata": {
        "id": "souNttv9uIVj"
      }
    }
  ]
}
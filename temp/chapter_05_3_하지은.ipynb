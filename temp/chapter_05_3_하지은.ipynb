{
  "nbformat": 4,
  "nbformat_minor": 0,
  "metadata": {
    "colab": {
      "name": "chapter_05_3_하지은.ipynb",
      "provenance": [],
      "collapsed_sections": [],
      "authorship_tag": "ABX9TyPbzdVR/B7ViIjLNkzOT9xS",
      "include_colab_link": true
    },
    "kernelspec": {
      "name": "python3",
      "display_name": "Python 3"
    },
    "language_info": {
      "name": "python"
    }
  },
  "cells": [
    {
      "cell_type": "markdown",
      "metadata": {
        "id": "view-in-github",
        "colab_type": "text"
      },
      "source": [
        "<a href=\"https://colab.research.google.com/github/jeha100/google_drive/blob/main/temp/chapter_05_3_%ED%95%98%EC%A7%80%EC%9D%80.ipynb\" target=\"_parent\"><img src=\"https://colab.research.google.com/assets/colab-badge.svg\" alt=\"Open In Colab\"/></a>"
      ]
    },
    {
      "cell_type": "markdown",
      "source": [
        "# 트리의 앙상블\n",
        "- 앙상블 학습은 더 좋은 예측 결과를 만들기 위해 여러 개의 모델을 훈련하는 머신러닝 알고리즘을 말한다.\n",
        "- 랜덤 포레스트는 대표적인 결정 트리 기반의 앙상블 학습 방법이다.\n",
        "- 엑스트라 트리는 랜덤 포레스트와 비슷하게 결정 트리를 사용하여 앙상블 모델을 만들지만 부트스트랩 샘플을 사용하지 않는다.\n",
        "- 그레이디언트 부스팅은 램덤 포레스트나 엑스트라 트리와 달리 결정 트리를 연속적으로 추가하여 손실 함수를 최소화하는 앙상블 방법이다.\n"
      ],
      "metadata": {
        "id": "HJOTCOLY6TDI"
      }
    },
    {
      "cell_type": "markdown",
      "source": [
        "# 트리의 앙상블\n",
        "- LightGBM 기억! \n",
        "  + GBM --> XGBoost --> LightGBM\n",
        "  + 참고 1. 모델개발속도가 빨라졌나? \n",
        "  + 참고 2. 모델의 성능이 좋아졌나? \n",
        "- TabNet (2019)\n",
        "  + 딥러닝 컨셉! "
      ],
      "metadata": {
        "id": "HfUIjI_DmqA7"
      }
    },
    {
      "cell_type": "markdown",
      "source": [
        "## 랜덤 포레스트(Forest)\n",
        "- 결정 트리 나무를 500개 심기\n",
        "- 최종적인 결정은 투표 방식 \n",
        "  + 나무-1 : 양성\n",
        "  + 나무-2 : 음성\n",
        "  + 나무-3 : 양성\n",
        "  ..\n",
        "  + 나무-500 : 양성"
      ],
      "metadata": {
        "id": "0dTSoqXk3o2I"
      }
    },
    {
      "cell_type": "markdown",
      "source": [
        "# 데이터 셋 분리"
      ],
      "metadata": {
        "id": "XkhPpVCbo--J"
      }
    },
    {
      "cell_type": "code",
      "execution_count": 1,
      "metadata": {
        "id": "YYcdn1RcmMrf"
      },
      "outputs": [],
      "source": [
        "import numpy as np\n",
        "import pandas as pd\n",
        "from sklearn.model_selection import train_test_split\n",
        "\n",
        "wine = pd.read_csv('https://bit.ly/wine_csv_data')\n",
        "\n",
        "data = wine[['alcohol', 'sugar', 'pH']].to_numpy()\n",
        "target = wine['class'].to_numpy()\n",
        "\n",
        "train_input, test_input, train_target, test_target = train_test_split(data, \n",
        "                                                                      target, \n",
        "                                                                      test_size=0.2, \n",
        "                                                                      random_state=42)"
      ]
    },
    {
      "cell_type": "markdown",
      "source": [
        "- p.267\n",
        "  + cross_validate() 교차 검증 수행\n"
      ],
      "metadata": {
        "id": "r0zrSYESpLfS"
      }
    },
    {
      "cell_type": "code",
      "source": [
        "from sklearn.model_selection import cross_validate\n",
        "from sklearn.ensemble import RandomForestClassifier\n",
        "\n",
        "rf = RandomForestClassifier(n_jobs=-1, random_state=42)\n",
        "scores = cross_validate(rf, train_input, train_target, \n",
        "                        return_train_score=True, n_jobs=-1)\n",
        "\n",
        "print(np.mean(scores['train_score']), np.mean(scores['test_score']))"
      ],
      "metadata": {
        "colab": {
          "base_uri": "https://localhost:8080/"
        },
        "id": "Ww503Kp-pIGG",
        "outputId": "dd4004c9-45ca-4066-a94c-c9064d288d4f"
      },
      "execution_count": 2,
      "outputs": [
        {
          "output_type": "stream",
          "name": "stdout",
          "text": [
            "0.9973541965122431 0.8905151032797809\n"
          ]
        }
      ]
    },
    {
      "cell_type": "code",
      "source": [
        "rf.fit(train_input, train_target)\n",
        "print(rf.feature_importances_)"
      ],
      "metadata": {
        "colab": {
          "base_uri": "https://localhost:8080/"
        },
        "id": "pMjdcEvxpcFz",
        "outputId": "9bc9c668-a78f-4925-dec6-a3c18a05be37"
      },
      "execution_count": 3,
      "outputs": [
        {
          "output_type": "stream",
          "name": "stdout",
          "text": [
            "[0.23167441 0.50039841 0.26792718]\n"
          ]
        }
      ]
    },
    {
      "cell_type": "code",
      "source": [
        "rf = RandomForestClassifier(oob_score=True, n_jobs=-1, random_state=42)\n",
        "\n",
        "rf.fit(train_input, train_target)\n",
        "print(rf.oob_score_)"
      ],
      "metadata": {
        "colab": {
          "base_uri": "https://localhost:8080/"
        },
        "id": "r7dL1PmMplLa",
        "outputId": "4986c5be-1c71-42ae-eff2-eef597432e36"
      },
      "execution_count": 4,
      "outputs": [
        {
          "output_type": "stream",
          "name": "stdout",
          "text": [
            "0.8934000384837406\n"
          ]
        }
      ]
    },
    {
      "cell_type": "code",
      "source": [
        "rf = RandomForestClassifier(oob_score=True, n_jobs=-1, random_state=42)\n",
        "\n",
        "rf.fit(train_input, train_target)\n",
        "print(rf.oob_score_)"
      ],
      "metadata": {
        "colab": {
          "base_uri": "https://localhost:8080/"
        },
        "id": "dPfMsRmSpnEK",
        "outputId": "0a9afdf6-fe74-4524-fb4d-a69e6ddf6f31"
      },
      "execution_count": 5,
      "outputs": [
        {
          "output_type": "stream",
          "name": "stdout",
          "text": [
            "0.8934000384837406\n"
          ]
        }
      ]
    },
    {
      "cell_type": "markdown",
      "source": [
        "# 그레이디언트 부스팅\n",
        "- 이전 트리의 오차를 보완하는 방식으로 사용. \n",
        "- 깊이가 얕은 트리를 사용.\n",
        "- 학습률 매개변수로 속도를 조절. \n",
        "- 단점 : 속도가 느림. "
      ],
      "metadata": {
        "id": "-72mnyH1s20G"
      }
    },
    {
      "cell_type": "code",
      "source": [
        "from sklearn.ensemble import GradientBoostingClassifier\n",
        "\n",
        "gb = GradientBoostingClassifier(random_state=42)\n",
        "scores = cross_validate(gb, train_input, train_target, return_train_score=True, n_jobs=-1)\n",
        "\n",
        "print(np.mean(scores['train_score']), np.mean(scores['test_score']))# 결정트리보다 속도가느림 "
      ],
      "metadata": {
        "colab": {
          "base_uri": "https://localhost:8080/"
        },
        "id": "BIsg1EeBs51i",
        "outputId": "e3d10c55-2cf6-44d0-cd98-febe63c83bc4"
      },
      "execution_count": 6,
      "outputs": [
        {
          "output_type": "stream",
          "name": "stdout",
          "text": [
            "0.8881086892152563 0.8720430147331015\n"
          ]
        }
      ]
    },
    {
      "cell_type": "code",
      "source": [
        "gb = GradientBoostingClassifier(n_estimators=500, learning_rate=0.2, random_state=42)\n",
        "scores = cross_validate(gb, train_input, train_target, return_train_score=True, n_jobs=-1)\n",
        "\n",
        "print(np.mean(scores['train_score']), np.mean(scores['test_score']))"
      ],
      "metadata": {
        "colab": {
          "base_uri": "https://localhost:8080/"
        },
        "id": "MgHEQ7Qos9XT",
        "outputId": "d2fe9527-dfe6-4f93-9eb8-0da793b89d33"
      },
      "execution_count": 7,
      "outputs": [
        {
          "output_type": "stream",
          "name": "stdout",
          "text": [
            "0.9464595437171814 0.8780082549788999\n"
          ]
        }
      ]
    },
    {
      "cell_type": "code",
      "source": [
        "gb.fit(train_input, train_target)\n",
        "print(gb.feature_importances_)"
      ],
      "metadata": {
        "colab": {
          "base_uri": "https://localhost:8080/"
        },
        "id": "q0y3O5IAs_M6",
        "outputId": "54f165a1-9ef5-42d0-ba8f-7bc772d3001e"
      },
      "execution_count": 8,
      "outputs": [
        {
          "output_type": "stream",
          "name": "stdout",
          "text": [
            "[0.15872278 0.68010884 0.16116839]\n"
          ]
        }
      ]
    },
    {
      "cell_type": "markdown",
      "source": [
        "- 흐름\n",
        "  + 0. 데이터 전처리 / 시각화\n",
        "  + 1. 기본 모형으로 전체 흐름을 설계\n",
        "  + 2. 여러 모형으로 비교 대조\n",
        "  + 3. 교차 검증, 하이퍼파라미터 성능 비교\n",
        "  + ... "
      ],
      "metadata": {
        "id": "LnFLUHRt4enY"
      }
    }
  ]
}
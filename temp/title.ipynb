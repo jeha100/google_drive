{
  "metadata": {
    "kernelspec": {
      "language": "python",
      "display_name": "Python 3",
      "name": "python3"
    },
    "language_info": {
      "pygments_lexer": "ipython3",
      "nbconvert_exporter": "python",
      "version": "3.6.4",
      "file_extension": ".py",
      "codemirror_mode": {
        "name": "ipython",
        "version": 3
      },
      "name": "python",
      "mimetype": "text/x-python"
    },
    "colab": {
      "name": "title.ipynb",
      "provenance": [],
      "include_colab_link": true
    }
  },
  "nbformat_minor": 0,
  "nbformat": 4,
  "cells": [
    {
      "cell_type": "markdown",
      "metadata": {
        "id": "view-in-github",
        "colab_type": "text"
      },
      "source": [
        "<a href=\"https://colab.research.google.com/github/jeha100/google_drive/blob/main/temp/title.ipynb\" target=\"_parent\"><img src=\"https://colab.research.google.com/assets/colab-badge.svg\" alt=\"Open In Colab\"/></a>"
      ]
    },
    {
      "cell_type": "code",
      "source": [
        "# This Python 3 environment comes with many helpful analytics libraries installed\n",
        "# It is defined by the kaggle/python Docker image: https://github.com/kaggle/docker-python\n",
        "# For example, here's several helpful packages to load\n",
        "\n",
        "import numpy as np # linear algebra\n",
        "import pandas as pd # data processing, CSV file I/O (e.g. pd.read_csv)\n",
        "\n",
        "# Input data files are available in the read-only \"../input/\" directory\n",
        "# For example, running this (by clicking run or pressing Shift+Enter) will list all files under the input directory\n",
        "\n",
        "import os\n",
        "for dirname, _, filenames in os.walk('/kaggle/input'):\n",
        "    for filename in filenames:\n",
        "        print(os.path.join(dirname, filename))\n",
        "\n",
        "# You can write up to 20GB to the current directory (/kaggle/working/) that gets preserved as output when you create a version using \"Save & Run All\" \n",
        "# You can also write temporary files to /kaggle/temp/, but they won't be saved outside of the current session"
      ],
      "metadata": {
        "_uuid": "8f2839f25d086af736a60e9eeb907d3b93b6e0e5",
        "_cell_guid": "b1076dfc-b9ad-4769-8c92-a6c4dae69d19",
        "execution": {
          "iopub.status.busy": "2022-04-01T01:14:46.74884Z",
          "iopub.execute_input": "2022-04-01T01:14:46.749373Z",
          "iopub.status.idle": "2022-04-01T01:14:46.775445Z",
          "shell.execute_reply.started": "2022-04-01T01:14:46.749277Z",
          "shell.execute_reply": "2022-04-01T01:14:46.774858Z"
        },
        "trusted": true,
        "id": "Ww_7JOMB-Srf"
      },
      "execution_count": null,
      "outputs": []
    },
    {
      "cell_type": "markdown",
      "source": [
        ""
      ],
      "metadata": {
        "id": "VeT8qfFX-Srj"
      }
    },
    {
      "cell_type": "markdown",
      "source": [
        "Setp 1.라이브러리 및 데이터 불러오기"
      ],
      "metadata": {
        "id": "wNC2FnhL-Srk"
      }
    },
    {
      "cell_type": "markdown",
      "source": [
        ""
      ],
      "metadata": {
        "id": "jM-t3RVR-Srl"
      }
    },
    {
      "cell_type": "markdown",
      "source": [
        "# Setp 2. 탐색적 자료 분석(EDA)\n",
        "- 데이터 시각화\n",
        "- 산점도, 막대 그래프 등\n",
        "- 그래프 해석해서 설명을 달아야 함\n",
        "- 약간의 데이터 전처리"
      ],
      "metadata": {
        "id": "s9OnICJ6-Srl"
      }
    },
    {
      "cell_type": "markdown",
      "source": [
        "# Step 3.데이터 전처리\n",
        "- Feature Engineering\n",
        "- ML 모형을 돌리기 위해 표준화 등/ 원핫-인코딩\n",
        "- 파생변수(도출 변수)\n",
        "    + 왜 이변수를 마들었는지에 대한 여러분들의 설명 필요"
      ],
      "metadata": {
        "id": "LgfUMy7Z-Srm"
      }
    },
    {
      "cell_type": "markdown",
      "source": [
        "# Step 4. 머신러닝 모형 개발\n",
        "- 모형에 대한 설명 필요\n",
        "- 모형을 1-2개 사용\n",
        "- 교차 검증\n",
        "- 하이퍼파라미터 튜닝"
      ],
      "metadata": {
        "id": "OS0ASpYk-Srn"
      }
    },
    {
      "cell_type": "markdown",
      "source": [
        "# Step 5.모형 평가\n",
        "- 훈련데이터 쪼갠다. 훈련데이터+ 검증데이터 분리\n",
        "- 정확도 비교\n",
        "- 혼동행렬(Confusion Matrix)설명"
      ],
      "metadata": {
        "id": "jqmxZzmm-Sro"
      }
    },
    {
      "cell_type": "markdown",
      "source": [
        "# Step 6. 제출\n",
        "- 제출 양식은 샘플 만든다."
      ],
      "metadata": {
        "id": "pl8N1yV6-Sro"
      }
    },
    {
      "cell_type": "markdown",
      "source": [
        "# 참고\n",
        "- 다른 사람의 code 설명을 쭉 따라침.\n",
        "- 노트북  표절 방지 위해, 참고한 코드는 반드시 링크 걸어 둘것\n",
        "- 저자 이름, 글 제목, 링크 주소 "
      ],
      "metadata": {
        "id": "EJlV8BhR-Srp"
      }
    },
    {
      "cell_type": "markdown",
      "source": [
        ""
      ],
      "metadata": {
        "id": "fHAUDHCC-Srp"
      }
    },
    {
      "cell_type": "markdown",
      "source": [
        "# 마감일\n",
        "- 4월 12일 17시 40분\n",
        "- 제출 형태\n",
        "    + Leaderboard 랭킹 사진 캡처\n",
        "    + 고용노동부 보고 양식(다음주에 확인후 알림공지)"
      ],
      "metadata": {
        "id": "omWIAJck-Srp"
      }
    }
  ]
}